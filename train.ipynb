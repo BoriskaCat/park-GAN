{
  "cells": [
    {
      "cell_type": "code",
      "execution_count": null,
      "metadata": {
        "colab": {
          "base_uri": "https://localhost:8080/"
        },
        "id": "xcF6XO7azieg",
        "outputId": "5516fe90-1921-4a00-db16-562d26556a64"
      },
      "outputs": [],
      "source": [
        "from google.colab import drive\n",
        "drive.mount('/content/drive')"
      ]
    },
    {
      "cell_type": "code",
      "execution_count": null,
      "metadata": {
        "colab": {
          "base_uri": "https://localhost:8080/"
        },
        "id": "ma2xM6mfzy2X",
        "outputId": "f81fdc5c-65ed-4d0f-9d9b-eaec1d3525e3"
      },
      "outputs": [],
      "source": [
        "import os\n",
        "import glob\n",
        "import json\n",
        "import numpy as np\n",
        "import tensorflow as tf\n",
        "from PIL import Image\n",
        "import matplotlib.pyplot as plt\n",
        "from tensorflow.keras import layers\n",
        "\n",
        "print(\"TensorFlow version:\", tf.__version__)\n",
        "print(\"Num GPUs Available: \", len(tf.config.list_physical_devices('GPU')))"
      ]
    },
    {
      "cell_type": "code",
      "execution_count": null,
      "metadata": {
        "id": "Ua_VU2wHz2k1"
      },
      "outputs": [],
      "source": [
        "CONTOURS_DIR = \"/content/drive/MyDrive/park-GAN/dataset/contours\"\n",
        "MASTERPLANS_DIR = \"/content/drive/MyDrive/park-GAN/dataset/master_plans\"\n",
        "AREAS_JSON = \"/content/drive/MyDrive/park-GAN/dataset/park_areas.json\"\n",
        "\n",
        "MODELS_DIR = \"/content/drive/MyDrive/park-GAN/models/v2.1\"\n",
        "CHECKPOINTS_DIR = \"/content/drive/MyDrive/park-GAN/checkpoints/v2.1\"\n",
        "\n",
        "os.makedirs(os.path.join(MODELS_DIR, \"generator\"), exist_ok=True)\n",
        "os.makedirs(os.path.join(MODELS_DIR, \"discriminator\"), exist_ok=True)\n",
        "os.makedirs(os.path.join(MODELS_DIR, \"embedder\"), exist_ok=True)\n",
        "os.makedirs(CHECKPOINTS_DIR, exist_ok=True)\n",
        "\n",
        "with open(AREAS_JSON, 'r') as f:\n",
        "    park_areas = json.load(f)\n",
        "\n",
        "IMG_HEIGHT = 512\n",
        "IMG_WIDTH = 512\n",
        "BATCH_SIZE = 64\n",
        "LAMBDA = 100   # L1 weight for pix2pix\n",
        "EMBED_DIM = 8  # Area embedding dimension\n"
      ]
    },
    {
      "cell_type": "code",
      "execution_count": null,
      "metadata": {
        "colab": {
          "base_uri": "https://localhost:8080/"
        },
        "id": "HtWJrX27z8Pk",
        "outputId": "efc690a1-aa6b-4955-e956-5fe302ef0f44"
      },
      "outputs": [
        {
          "name": "stdout",
          "output_type": "stream",
          "text": [
            "Total valid pairs: 970\n"
          ]
        }
      ],
      "source": [
        "def get_core_id(fname):\n",
        "    base = os.path.splitext(os.path.basename(fname))[0]\n",
        "    if base.endswith(\"_contour\"):\n",
        "        return base.replace(\"_contour\", \"\")\n",
        "    if base.endswith(\"_schema\"):\n",
        "        return base.replace(\"_schema\", \"\")\n",
        "    return base\n",
        "\n",
        "def get_park_name(core_id):\n",
        "    parts = core_id.rsplit('_', 1)\n",
        "    if len(parts) == 2 and parts[1].isdigit():\n",
        "        return parts[0]\n",
        "    return core_id\n",
        "\n",
        "contour_paths = sorted(glob.glob(os.path.join(CONTOURS_DIR, \"*_contour.*\")))\n",
        "masterplan_dict = {get_core_id(mp_path): mp_path for mp_path in glob.glob(os.path.join(MASTERPLANS_DIR, \"*_schema.*\"))}\n",
        "\n",
        "pairs = []\n",
        "for cpath in contour_paths:\n",
        "    cid = get_core_id(cpath)\n",
        "    park_name = get_park_name(cid)\n",
        "    if cid in masterplan_dict:\n",
        "        area_val = park_areas.get(park_name, 0.0)\n",
        "        pairs.append((cpath, masterplan_dict[cid], area_val))\n",
        "\n",
        "print(\"Total valid pairs:\", len(pairs))"
      ]
    },
    {
      "cell_type": "code",
      "execution_count": null,
      "metadata": {
        "id": "F-ku7Z8G0BsQ"
      },
      "outputs": [],
      "source": [
        "missing_parks = set(get_park_name(get_core_id(cpath)) for cpath in contour_paths) - set(park_areas.keys())\n",
        "if missing_parks:\n",
        "    print(\"Warning: Missing park areas for:\", missing_parks)"
      ]
    },
    {
      "cell_type": "code",
      "execution_count": null,
      "metadata": {
        "colab": {
          "base_uri": "https://localhost:8080/"
        },
        "id": "bmJNMKQ80Q7J",
        "outputId": "7a27966f-a878-46b5-8233-786bc5e6040e"
      },
      "outputs": [
        {
          "name": "stdout",
          "output_type": "stream",
          "text": [
            "Dataset created.\n"
          ]
        }
      ],
      "source": [
        "def load_image_pair(contour_path, masterplan_path):\n",
        "    contour = Image.open(contour_path).convert('RGB').resize((IMG_WIDTH, IMG_HEIGHT))\n",
        "    masterplan = Image.open(masterplan_path).convert('RGB').resize((IMG_WIDTH, IMG_HEIGHT))\n",
        "    c_img = np.array(contour, dtype=np.float32) / 255.0\n",
        "    m_img = np.array(masterplan, dtype=np.float32) / 255.0\n",
        "    return c_img, m_img\n",
        "\n",
        "@tf.function\n",
        "def combine_with_area(img, area, embedder):\n",
        "    area_2d = tf.expand_dims(area, axis=-1)\n",
        "    area_emb = embedder(area_2d)\n",
        "    area_emb_tiled = tf.tile(tf.reshape(area_emb, [tf.shape(area_emb)[0], 1, 1, EMBED_DIM]),\n",
        "                             [1, IMG_HEIGHT, IMG_WIDTH, 1])\n",
        "    return tf.concat([img, area_emb_tiled], axis=-1)\n",
        "\n",
        "def data_generator():\n",
        "    for cpath, mpath, area_val in pairs:\n",
        "        c_img, m_img = load_image_pair(cpath, mpath)\n",
        "        yield (c_img, m_img, area_val)\n",
        "\n",
        "raw_dataset = tf.data.Dataset.from_generator(\n",
        "    data_generator,\n",
        "    output_types=(tf.float32, tf.float32, tf.float32),\n",
        "    output_shapes=((IMG_HEIGHT, IMG_WIDTH, 3), (IMG_HEIGHT, IMG_WIDTH, 3), ())\n",
        ")\n",
        "\n",
        "dataset = (\n",
        "    raw_dataset\n",
        "    .map(lambda c, m, a: (c, m, a), num_parallel_calls=tf.data.AUTOTUNE)\n",
        "    .shuffle(buffer_size=len(pairs))\n",
        "    .batch(BATCH_SIZE)\n",
        "    .prefetch(tf.data.AUTOTUNE)\n",
        ")\n",
        "\n",
        "print(\"Dataset created.\")"
      ]
    },
    {
      "cell_type": "code",
      "execution_count": null,
      "metadata": {
        "id": "64FIERdg0YAV"
      },
      "outputs": [],
      "source": [
        "class AreaEmbedder(tf.keras.Model):\n",
        "    def __init__(self, embedding_dim=8):\n",
        "        super().__init__()\n",
        "        self.dense1 = layers.Dense(16, activation='relu')\n",
        "        self.dense2 = layers.Dense(embedding_dim, activation=None)\n",
        "\n",
        "    def call(self, area_tensor):\n",
        "        x = self.dense1(area_tensor)\n",
        "        x = self.dense2(x)\n",
        "        return x\n",
        "\n",
        "area_embedder = AreaEmbedder(embedding_dim=EMBED_DIM)\n",
        "\n",
        "\n",
        "def downsample(filters, size, apply_batchnorm=True):\n",
        "    initializer = tf.random_normal_initializer(0., 0.02)\n",
        "    block = tf.keras.Sequential()\n",
        "    block.add(layers.Conv2D(filters, size, strides=2, padding='same', kernel_initializer=initializer, use_bias=False))\n",
        "    if apply_batchnorm:\n",
        "        block.add(layers.BatchNormalization())\n",
        "    block.add(layers.LeakyReLU())\n",
        "    return block\n",
        "\n",
        "def upsample(filters, size, apply_dropout=False):\n",
        "    initializer = tf.random_normal_initializer(0., 0.02)\n",
        "    block = tf.keras.Sequential()\n",
        "    block.add(layers.Conv2DTranspose(filters, size, strides=2, padding='same', kernel_initializer=initializer, use_bias=False))\n",
        "    block.add(layers.BatchNormalization())\n",
        "    if apply_dropout:\n",
        "        block.add(layers.Dropout(0.5))\n",
        "    block.add(layers.ReLU())\n",
        "    return block\n",
        "\n",
        "def build_generator(in_channels=3+EMBED_DIM, out_channels=3):\n",
        "    inputs = layers.Input(shape=[IMG_HEIGHT, IMG_WIDTH, in_channels])\n",
        "    down_stack = [\n",
        "        downsample(64, 4, apply_batchnorm=False),\n",
        "        downsample(128, 4),\n",
        "        downsample(256, 4),\n",
        "        downsample(512, 4),\n",
        "        downsample(512, 4),\n",
        "        downsample(512, 4),\n",
        "        downsample(512, 4),\n",
        "        downsample(512, 4),\n",
        "    ]\n",
        "    up_stack = [\n",
        "        upsample(512, 4, apply_dropout=True),\n",
        "        upsample(512, 4, apply_dropout=True),\n",
        "        upsample(512, 4, apply_dropout=True),\n",
        "        upsample(512, 4),\n",
        "        upsample(256, 4),\n",
        "        upsample(128, 4),\n",
        "        upsample(64, 4),\n",
        "    ]\n",
        "    initializer = tf.random_normal_initializer(0., 0.02)\n",
        "    last = layers.Conv2DTranspose(out_channels, 4, strides=2, padding='same', kernel_initializer=initializer, activation='tanh')\n",
        "\n",
        "    x = inputs\n",
        "    skips = []\n",
        "    for down in down_stack:\n",
        "        x = down(x)\n",
        "        skips.append(x)\n",
        "    skips = reversed(skips[:-1])\n",
        "    for up, skip in zip(up_stack, skips):\n",
        "        x = up(x)\n",
        "        x = layers.Concatenate()([x, skip])\n",
        "    x = last(x)\n",
        "    return tf.keras.Model(inputs=inputs, outputs=x)\n",
        "\n",
        "generator = build_generator()\n",
        "\n",
        "\n",
        "def build_discriminator():\n",
        "    initializer = tf.random_normal_initializer(0., 0.02)\n",
        "    in_channels = 6 + 2*EMBED_DIM\n",
        "    inputs = layers.Input(shape=[IMG_HEIGHT, IMG_WIDTH, in_channels])\n",
        "    x = downsample(64, 4, apply_batchnorm=False)(inputs)\n",
        "    x = downsample(128, 4)(x)\n",
        "    x = downsample(256, 4)(x)\n",
        "    x = layers.ZeroPadding2D()(x)\n",
        "    x = layers.Conv2D(512, 4, strides=1, kernel_initializer=initializer, use_bias=False)(x)\n",
        "    x = layers.BatchNormalization()(x)\n",
        "    x = layers.LeakyReLU()(x)\n",
        "    x = layers.ZeroPadding2D()(x)\n",
        "    x = layers.Conv2D(1, 4, strides=1, kernel_initializer=initializer)(x)\n",
        "    return tf.keras.Model(inputs=inputs, outputs=x)\n",
        "\n",
        "discriminator = build_discriminator()"
      ]
    },
    {
      "cell_type": "code",
      "execution_count": null,
      "metadata": {
        "id": "hm51QHga0b99"
      },
      "outputs": [],
      "source": [
        "loss_object = tf.keras.losses.BinaryCrossentropy(from_logits=True)\n",
        "\n",
        "def generator_loss(disc_generated_output, gen_output, target):\n",
        "    gan_loss = loss_object(tf.ones_like(disc_generated_output), disc_generated_output)\n",
        "    l1_loss = tf.reduce_mean(tf.abs(target - gen_output))\n",
        "    total_gen_loss = gan_loss + LAMBDA * l1_loss\n",
        "    return total_gen_loss, gan_loss, l1_loss\n",
        "\n",
        "def discriminator_loss(disc_real_output, disc_generated_output):\n",
        "    real_loss = loss_object(tf.ones_like(disc_real_output), disc_real_output)\n",
        "    generated_loss = loss_object(tf.zeros_like(disc_generated_output), disc_generated_output)\n",
        "    return (real_loss + generated_loss) * 0.5\n",
        "\n",
        "generator_optimizer = tf.keras.optimizers.Adam(1e-4, beta_1=0.5)\n",
        "discriminator_optimizer = tf.keras.optimizers.Adam(1e-4, beta_1=0.5)"
      ]
    },
    {
      "cell_type": "code",
      "execution_count": null,
      "metadata": {
        "id": "ak2WBtIO0elD"
      },
      "outputs": [],
      "source": [
        "@tf.function\n",
        "def train_step(contours, masterplans, areas):\n",
        "    with tf.GradientTape(persistent=True) as tape:\n",
        "        contour_with_area = combine_with_area(contours, areas, area_embedder)\n",
        "        fake_masterplan = generator(contour_with_area, training=True)\n",
        "        real_with_area = combine_with_area(masterplans, areas, area_embedder)\n",
        "        fake_with_area = combine_with_area(fake_masterplan, areas, area_embedder)\n",
        "        disc_real_in = tf.concat([contour_with_area, real_with_area], axis=-1)\n",
        "        disc_fake_in = tf.concat([contour_with_area, fake_with_area], axis=-1)\n",
        "        disc_real_output = discriminator(disc_real_in, training=True)\n",
        "        disc_fake_output = discriminator(disc_fake_in, training=True)\n",
        "        gen_total_loss, gen_gan_loss, gen_l1_loss = generator_loss(disc_fake_output, fake_masterplan, masterplans)\n",
        "        disc_loss = discriminator_loss(disc_real_output, disc_fake_output)\n",
        "\n",
        "    generator_gradients = tape.gradient(gen_total_loss, generator.trainable_variables + area_embedder.trainable_variables)\n",
        "    discriminator_gradients = tape.gradient(disc_loss, discriminator.trainable_variables)\n",
        "    generator_optimizer.apply_gradients(zip(generator_gradients, generator.trainable_variables + area_embedder.trainable_variables))\n",
        "    discriminator_optimizer.apply_gradients(zip(discriminator_gradients, discriminator.trainable_variables))\n",
        "    return gen_total_loss, gen_gan_loss, gen_l1_loss, disc_loss\n",
        "\n",
        "def fit(dataset, start_epoch, total_epochs, val_contours, val_masterplans, val_areas):\n",
        "    for epoch in range(start_epoch, total_epochs + 1):\n",
        "        print(f\"Starting epoch {epoch}/{total_epochs}\")\n",
        "        for step, (contours_batch, masterplans_batch, area_batch) in enumerate(dataset):\n",
        "            gen_loss, gan_loss, l1_loss, disc_loss = train_step(contours_batch, masterplans_batch, area_batch)\n",
        "            if step % 50 == 0:\n",
        "                print(f\"  Step {step}, Gen Loss: {gen_loss.numpy():.4f} (GAN: {gan_loss.numpy():.4f}, L1: {l1_loss.numpy():.4f}), Disc Loss: {disc_loss.numpy():.4f}\")\n",
        "\n",
        "        if epoch % 10 == 0:\n",
        "            generator.save_weights(os.path.join(MODELS_DIR, \"generator\", f\"generator_epoch_{epoch}.weights.h5\"))\n",
        "            discriminator.save_weights(os.path.join(MODELS_DIR, \"discriminator\", f\"discriminator_epoch_{epoch}.weights.h5\"))\n",
        "            area_embedder.save_weights(os.path.join(MODELS_DIR, \"embedder\", f\"area_embedder_epoch_{epoch}.weights.h5\"))\n",
        "\n",
        "            val_contour_with_area = combine_with_area(val_contours, val_areas, area_embedder)\n",
        "            val_fake_masterplan = generator(val_contour_with_area, training=False)\n",
        "            for i in range(min(5, val_contours.shape[0])):\n",
        "                fig, axes = plt.subplots(1, 3, figsize=(15, 5))\n",
        "                fig.suptitle(f\"Epoch {epoch}\", fontsize=16)\n",
        "                axes[0].imshow(val_contours[i])\n",
        "                axes[0].set_title(f\"Contour (Area={val_areas[i].numpy():.2f}ha)\")\n",
        "                axes[1].imshow((val_fake_masterplan[i].numpy() + 1) / 2.0)\n",
        "                axes[1].set_title(\"Generated Masterplan\")\n",
        "                axes[2].imshow(val_masterplans[i])\n",
        "                axes[2].set_title(\"Real Masterplan\")\n",
        "                for ax in axes:\n",
        "                    ax.axis(\"off\")\n",
        "                image_path = os.path.join(CHECKPOINTS_DIR, f\"val_epoch_{epoch}_sample_{i}.png\")\n",
        "                plt.savefig(image_path)\n",
        "                plt.close()\n"
      ]
    },
    {
      "cell_type": "code",
      "execution_count": null,
      "metadata": {
        "id": "Kltbmj0-8GAq"
      },
      "outputs": [],
      "source": [
        "VAL_CONTOUR_PATHS = [\n",
        "    \"/content/drive/MyDrive/park-GAN/dataset/contours/nl_hag_bogaardplein_1_contour.jpg\",\n",
        "    \"/content/drive/MyDrive/park-GAN/dataset/contours/us_elp_centennial_7_contour.jpg\"\n",
        "]\n",
        "VAL_MASTERPLAN_PATHS = [\n",
        "    \"/content/drive/MyDrive/park-GAN/dataset/master_plans/nl_hag_bogaardplein_1_schema.jpg\",\n",
        "    \"/content/drive/MyDrive/park-GAN/dataset/master_plans/us_elp_centennial_7_schema.jpg\"\n",
        "]\n",
        "\n",
        "val_contours_list = []\n",
        "val_masterplans_list = []\n",
        "val_areas_list = []\n",
        "\n",
        "for c_path, m_path in zip(VAL_CONTOUR_PATHS, VAL_MASTERPLAN_PATHS):\n",
        "    c_img, m_img = load_image_pair(c_path, m_path)\n",
        "    val_contours_list.append(c_img)\n",
        "    val_masterplans_list.append(m_img)\n",
        "    core_id = get_core_id(c_path)\n",
        "    park_name = get_park_name(core_id)\n",
        "    area_val = park_areas.get(park_name, 0.0)\n",
        "    val_areas_list.append(area_val)\n",
        "\n",
        "val_contours = tf.stack(val_contours_list)\n",
        "val_masterplans = tf.stack(val_masterplans_list)\n",
        "val_areas = tf.convert_to_tensor(val_areas_list, dtype=tf.float32)\n",
        "\n",
        "generator.load_weights(os.path.join(MODELS_DIR, \"generator\", f\"generator_epoch_900.weights.h5\"))\n",
        "discriminator.load_weights(os.path.join(MODELS_DIR, \"discriminator\", f\"discriminator_epoch_900.weights.h5\"))\n",
        "\n",
        "area_embedder.build(input_shape=(None, 1))\n",
        "area_embedder.load_weights(os.path.join(MODELS_DIR, \"embedder\", f\"area_embedder_epoch_900.weights.h5\"))"
      ]
    },
    {
      "cell_type": "code",
      "execution_count": null,
      "metadata": {
        "colab": {
          "base_uri": "https://localhost:8080/"
        },
        "id": "nqfxJbuI8Sh1",
        "outputId": "a8ef149a-44ee-4262-ff52-3c9a3ae1a1cc"
      },
      "outputs": [],
      "source": [
        "fit(dataset, start_epoch=901, total_epochs=1200, val_contours=val_contours, val_masterplans=val_masterplans, val_areas=val_areas)"
      ]
    }
  ],
  "metadata": {
    "accelerator": "GPU",
    "colab": {
      "gpuType": "A100",
      "machine_shape": "hm",
      "provenance": []
    },
    "kernelspec": {
      "display_name": "Python 3",
      "name": "python3"
    },
    "language_info": {
      "name": "python"
    }
  },
  "nbformat": 4,
  "nbformat_minor": 0
}
